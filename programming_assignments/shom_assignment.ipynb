{
  "cells": [
    {
      "cell_type": "markdown",
      "metadata": {
        "id": "T-aNcUS52iNQ"
      },
      "source": [
        "# Computing simplicial homology\n",
        "The code below is based on work Chandradeep Chowdhury did for his senior project"
      ]
    },
    {
      "cell_type": "code",
      "execution_count": 1,
      "metadata": {
        "id": "lIlF93TCExrT"
      },
      "outputs": [],
      "source": [
        "import sympy as sp\n",
        "#1. Calculate the k-chains\n",
        "#2. Calculate the boundary maps \n",
        "#3. Calculate the requested homology groups\n",
        "#4. Calculate the rank of the homology group. \n",
        "\n",
        "#Read the sympy linear algebra tutorial: https://docs.sympy.org/latest/tutorials/intro-tutorial/matrices.html\n",
        "\n",
        "#We are using sympy over numpy since it symbolically calculates exact solutions"
      ]
    },
    {
      "cell_type": "code",
      "execution_count": 6,
      "metadata": {
        "id": "z_OxGBJ6FMNg"
      },
      "outputs": [],
      "source": [
        "#Helper functions:\n",
        "\n",
        "#Prints a newline\n",
        "def newline():\n",
        "    print(\"\\n\");\n",
        "\n",
        "#Find weight at index\n",
        "def weight(index):\n",
        "    return (-1)**index;"
      ]
    },
    {
      "cell_type": "code",
      "execution_count": 76,
      "metadata": {
        "id": "jSk1072HFTTd"
      },
      "outputs": [],
      "source": [
        "\n",
        "\n",
        "#Function (Forward direction of isomorphism between linear maps and matrices) to convert the boundary homomorphism to a matrix in the natural bases of k-chains:\n",
        "def morphism(C_k, C_kplus1):\n",
        "    #Solution goes here:\n",
        "    \n",
        "    pass"
      ]
    },
    {
      "cell_type": "code",
      "execution_count": 3,
      "metadata": {
        "id": "XLQe0Mo3Gqt_"
      },
      "outputs": [],
      "source": [
        "#load the complexes into a list: (below are some examples)\n",
        "#If your script does not include steps to check the list is a valid simplicial complex make sure to manually enter a valid complex.  \n",
        "sc1 = [[],[1],[2],[3],[4],\n",
        "[1,2],[1,3],[2,3],[2,4],[3,4],\n",
        "[2,3,4]];\n",
        "\n",
        "sc2 = [[],[1],[2],[3],\n",
        "[1,2],[1,3],[2,3]\n",
        "];\n",
        "\n",
        "sc3 = [[], [1], [2], [3], [1,2]];\n",
        "\n",
        "sc4 = [[], [\"a\"],[\"b\"],[\"c\"],[\"d\"],[\"e\"],[\"f\"],[\"b\",\"c\"],[\"c\",\"d\"],[\"c\",\"e\"],[\"d\",\"e\"],[\"c\",\"d\",\"e\"],[\"d\",\"f\"],[\"e\",\"f\"]];\n"
      ]
    },
    {
      "cell_type": "code",
      "execution_count": 77,
      "metadata": {
        "id": "_ko2y7qZFYor"
      },
      "outputs": [],
      "source": [
        "def shom(sc): \n",
        "    print(\"\\nSimplicial Complex: \\n\", sc, \"\\n\");\n",
        "\n",
        "    #0. Optional: add a check for validity of the simplicial complex \n",
        "\n",
        "    #1. Seperate the elements of the complex into k-chains:\n",
        "    #Your solution goes here:\n",
        "\n",
        "\n",
        "    # Example output for sc4: \n",
        "    # Simplicial k-chains:\n",
        "    # C_-1 =  span {[]}\n",
        "    # C_0 =  span {['a'], ['b'], ['c'], ['d'], ['e'], ['f']}\n",
        "    # C_1 =  span {['b', 'c'], ['c', 'd'], ['c', 'e'], ['d', 'e'], ['d', 'f'], ['e', 'f']}\n",
        "    # C_2 =  span {['c', 'd', 'e']}\n",
        "    # C_3 =  span {[]}\n",
        "\n",
        "\n",
        "    #2. Calculate the boundary homomorphisms using the morphism above\n",
        "    #Your solution goes here:\n",
        "    \n",
        "\n",
        "    #Example output for sc4:\n",
        "    # k-Boundary Maps in natural bases of k-chains (d_k: C_k --> C_k-1)\n",
        "    # d_0:\n",
        "    # [0  0  0  0  0  0]\n",
        "\n",
        "\n",
        "    # d_1:\n",
        "    # [0   0   0   0   0   0 ]\n",
        "    # [                      ]\n",
        "    # [-1  0   0   0   0   0 ]\n",
        "    # [                      ]\n",
        "    # [1   -1  -1  0   0   0 ]\n",
        "    # [                      ]\n",
        "    # [0   1   0   -1  -1  0 ]\n",
        "    # [                      ]\n",
        "    # [0   0   1   1   0   -1]\n",
        "    # [                      ]\n",
        "    # [0   0   0   0   1   1 ]\n",
        "\n",
        "\n",
        "    # d_2:\n",
        "    # [0 ]\n",
        "    # [  ]\n",
        "    # [1 ]\n",
        "    # [  ]\n",
        "    # [-1]\n",
        "    # [  ]\n",
        "    # [1 ]\n",
        "    # [  ]\n",
        "    # [0 ]\n",
        "    # [  ]\n",
        "    # [0 ]\n",
        "\n",
        "\n",
        "    # d_3:\n",
        "    # [0]\n",
        "    \n",
        "    \n",
        "    #3. calculate homology group and its rank using the algorithm for finding quotient basis:\n",
        "    #Your solution goes here:\n",
        "\n",
        "\n",
        "    # Example output for sc4:\n",
        "    # kth Homology:\n",
        "    # H_0 = span{['a'], ['b']}\n",
        "    # Rank of H_0 = 2\n",
        "\n",
        "\n",
        "    # H_1 = span{ - ['c', 'd'] + ['c', 'e'] - ['d', 'f'] + ['e', 'f']}\n",
        "    # Rank of H_1 = 1\n",
        "\n",
        "\n",
        "    # H_2 = span{}\n",
        "    # Rank of H_2 = 0\n",
        "    \n",
        "    \n",
        "    newline();\n",
        "    \n",
        "    return;"
      ]
    },
    {
      "cell_type": "code",
      "execution_count": null,
      "metadata": {
        "colab": {
          "base_uri": "https://localhost:8080/"
        },
        "id": "A_TSdIGUGcmQ",
        "outputId": "af7ee135-b9da-464e-8dd2-2649cc6eb16d"
      },
      "outputs": [],
      "source": [
        "#Call the function here: \n",
        "shom(sc4);"
      ]
    }
  ],
  "metadata": {
    "colab": {
      "provenance": []
    },
    "kernelspec": {
      "display_name": "Python 3",
      "name": "python3"
    },
    "language_info": {
      "codemirror_mode": {
        "name": "ipython",
        "version": 3
      },
      "file_extension": ".py",
      "mimetype": "text/x-python",
      "name": "python",
      "nbconvert_exporter": "python",
      "pygments_lexer": "ipython3",
      "version": "3.9.16"
    }
  },
  "nbformat": 4,
  "nbformat_minor": 0
}
