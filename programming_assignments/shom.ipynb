{
  "cells": [
    {
      "cell_type": "markdown",
      "metadata": {
        "id": "T-aNcUS52iNQ"
      },
      "source": [
        "# Computing simplicial homology\n",
        "The code below is based on work Chandradeep Chowdhury did for his senior project"
      ]
    },
    {
      "cell_type": "code",
      "execution_count": 87,
      "metadata": {
        "id": "lIlF93TCExrT"
      },
      "outputs": [],
      "source": [
        "import sympy as sp\n",
        "#1. Calculate the k-chains\n",
        "#2. Calculate the boundary maps \n",
        "#3. Calculate the requested homology groups\n",
        "#4. Calculate the rank of the homology group. "
      ]
    },
    {
      "cell_type": "code",
      "execution_count": 88,
      "metadata": {
        "id": "z_OxGBJ6FMNg"
      },
      "outputs": [],
      "source": [
        "#Helper functions:\n",
        "#Prints a newline\n",
        "def newline():\n",
        "    print(\"\\n\");"
      ]
    },
    {
      "cell_type": "code",
      "execution_count": 89,
      "metadata": {
        "id": "jSk1072HFTTd"
      },
      "outputs": [],
      "source": [
        "#Find weight at index\n",
        "def weight(index):\n",
        "    return (-1)**index;\n",
        "\n",
        "#Function (Forward direction of isomorphism between linear maps and matrices) to convert the boundary homomorphism to a matrix in the natural bases of k-chains:\n",
        "def morphism(C_k, C_kplus1):\n",
        "    ret = [];\n",
        "    for x in C_kplus1:\n",
        "        out = [];\n",
        "        for i in range(0, len(x)):\n",
        "            temp = x.copy();\n",
        "            del temp[i];\n",
        "            out.append(temp);\n",
        "        for y in C_k:\n",
        "            if y in out:\n",
        "                ret.append(weight(out.index(y)));\n",
        "            else:\n",
        "                ret.append(0);\n",
        "    return ret;"
      ]
    },
    {
      "cell_type": "code",
      "execution_count": 90,
      "metadata": {
        "id": "XLQe0Mo3Gqt_"
      },
      "outputs": [],
      "source": [
        "#load the complexes into a list: (below are some examples)\n",
        "#The script does not currently check if the list is a valid simlicial complex. \n",
        "sc1 = [[],[1],[2],[3],[4],\n",
        "[1,2],[1,3],[2,3],[2,4],[3,4],\n",
        "[2,3,4]];\n",
        "\n",
        "sc2 = [[],[1],[2],[3],\n",
        "[1,2],[1,3],[2,3]\n",
        "];\n",
        "\n",
        "sc3 = [[], [1], [2], [3], [1,2]];\n",
        "\n",
        "sc4 = [[], [\"a\"],[\"b\"],[\"c\"],[\"d\"],[\"e\"],[\"f\"],[\"b\",\"c\"],[\"c\",\"d\"],[\"c\",\"e\"],[\"d\",\"e\"],[\"c\",\"d\",\"e\"],[\"d\",\"f\"],[\"e\",\"f\"]]; \n"
      ]
    },
    {
      "cell_type": "code",
      "execution_count": 91,
      "metadata": {
        "id": "_ko2y7qZFYor"
      },
      "outputs": [],
      "source": [
        "def shom(sc): \n",
        "    print(\"\\nSimplicial Complex: \\n\", sc, \"\\n\");\n",
        "\n",
        "    #initialize the hashmap\n",
        "    C = {};\n",
        "\n",
        "    #load the complex into a hashmap to seperate the k-chains:\n",
        "    #While in theory we do not need C_-1, it was helpful for the algorithm.\n",
        "    for simplex in sc:\n",
        "        if (len(simplex)-1) not in C.keys():\n",
        "            C[len(simplex)-1] = [simplex];\n",
        "        else:\n",
        "            C[len(simplex)-1].append(simplex); \n",
        "    \n",
        "    #Little trick to add an empty k-chain at the end. \n",
        "    for i in C:\n",
        "        continue;\n",
        "    C[i+1] = [[]];\n",
        "\n",
        "      \n",
        "    print(\"Simplicial k-chains:\");\n",
        "    for i in C:\n",
        "        print(\"C_\", i, \" =  span {\", ', '.join(map(str,C[i])), \"}\", sep = '');\n",
        "\n",
        "\n",
        "    #Calculate the boundary homomorphisms \n",
        "    d = [];\n",
        "\n",
        "    for i in C:\n",
        "        if i == 0:\n",
        "            d.append(sp.zeros(1, len(C[i])));\n",
        "        elif i > 0:\n",
        "            M = sp.Matrix(len(C[i]), len(C[i-1]), morphism(C[i-1], C[i])); #Converting the map to matrix form here. \n",
        "            d.append(M.T);\n",
        "    \n",
        "    newline();\n",
        "    \n",
        "    #calculate homology group and its rank:\n",
        "\n",
        "    #This algorithm may not produce the same quotient basis for you would find manually\n",
        "\n",
        "    print(\"kth Homology:\")\n",
        "    for i in range(0, len(d) - 1):\n",
        "\n",
        "        ker = d[i].nullspace();\n",
        "        img = d[i+1].columnspace();\n",
        "\n",
        "        y = sp.Matrix();\n",
        "        \n",
        "        for z in img:\n",
        "            y = y.row_join(z);\n",
        "\n",
        "        for x in ker:\n",
        "            y = y.row_join(x);\n",
        "\n",
        "        pivots = (y.rref())[1];\n",
        "\n",
        "        span = [];\n",
        "\n",
        "        for k in range(len(img), y.shape[1]):\n",
        "            if k in pivots:\n",
        "                span.append(y.col(k));\n",
        "        \n",
        "        \n",
        "        #backward direction of the isomorphism \n",
        "        veclist = []\n",
        "        for vector in span:\n",
        "            rep = \"\"\n",
        "            for j in range(len(vector)):\n",
        "                    if len(rep) == 0:\n",
        "                        if vector[j] == 0:\n",
        "                            continue\n",
        "                        elif vector[j] == 1:\n",
        "                            rep += str(C[i][j])\n",
        "                        elif vector[j] == -1:\n",
        "                            rep += \" - \" + str(C[i][j])\n",
        "                    else:\n",
        "                        if vector[j] == 0:\n",
        "                            continue\n",
        "                        elif vector[j] == 1:\n",
        "                            rep += \" + \" + str(C[i][j])\n",
        "                        elif vector[j] == -1:\n",
        "                            rep += \" - \" + str(C[i][j])\n",
        "            veclist.append(rep)\n",
        "        \n",
        "        \n",
        "        \n",
        "        print(\"H_\" + str(i) + \" = span{\" + ', '.join(veclist) + \"}\")\n",
        "\n",
        "        print(\"Rank of H_\", i, \" = \", len(ker) - len(img), sep ='');\n",
        "        newline();\n",
        "    \n",
        "    return;"
      ]
    },
    {
      "cell_type": "code",
      "execution_count": 92,
      "metadata": {
        "colab": {
          "base_uri": "https://localhost:8080/"
        },
        "id": "A_TSdIGUGcmQ",
        "outputId": "af7ee135-b9da-464e-8dd2-2649cc6eb16d"
      },
      "outputs": [
        {
          "name": "stdout",
          "output_type": "stream",
          "text": [
            "\n",
            "Simplicial Complex: \n",
            " [[], ['a'], ['b'], ['c'], ['d'], ['e'], ['f'], ['b', 'c'], ['c', 'd'], ['c', 'e'], ['d', 'e'], ['c', 'd', 'e'], ['d', 'f'], ['e', 'f']] \n",
            "\n",
            "Simplicial k-chains:\n",
            "C_-1 =  span {[]}\n",
            "C_0 =  span {['a'], ['b'], ['c'], ['d'], ['e'], ['f']}\n",
            "C_1 =  span {['b', 'c'], ['c', 'd'], ['c', 'e'], ['d', 'e'], ['d', 'f'], ['e', 'f']}\n",
            "C_2 =  span {['c', 'd', 'e']}\n",
            "C_3 =  span {[]}\n",
            "\n",
            "\n",
            "kth Homology:\n",
            "H_0 = span{['a'], ['b']}\n",
            "Rank of H_0 = 2\n",
            "\n",
            "\n",
            "H_1 = span{ - ['c', 'd'] + ['c', 'e'] - ['d', 'f'] + ['e', 'f']}\n",
            "Rank of H_1 = 1\n",
            "\n",
            "\n",
            "H_2 = span{}\n",
            "Rank of H_2 = 0\n",
            "\n",
            "\n"
          ]
        }
      ],
      "source": [
        "#Call the function here: \n",
        "shom(sc4);"
      ]
    }
  ],
  "metadata": {
    "colab": {
      "provenance": []
    },
    "kernelspec": {
      "display_name": "Python 3",
      "name": "python3"
    },
    "language_info": {
      "codemirror_mode": {
        "name": "ipython",
        "version": 3
      },
      "file_extension": ".py",
      "mimetype": "text/x-python",
      "name": "python",
      "nbconvert_exporter": "python",
      "pygments_lexer": "ipython3",
      "version": "3.9.16"
    }
  },
  "nbformat": 4,
  "nbformat_minor": 0
}
